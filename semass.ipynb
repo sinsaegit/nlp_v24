{
 "cells": [
  {
   "cell_type": "markdown",
   "metadata": {},
   "source": [
    "# Semesteroppgave"
   ]
  },
  {
   "cell_type": "markdown",
   "metadata": {},
   "source": [
    "### Text preparation"
   ]
  },
  {
   "cell_type": "code",
   "execution_count": 1,
   "metadata": {},
   "outputs": [],
   "source": [
    "import os\n",
    "import os.path\n",
    "import re"
   ]
  },
  {
   "cell_type": "code",
   "execution_count": 2,
   "metadata": {},
   "outputs": [],
   "source": [
    "def check_dir(pn):\n",
    "    \n",
    "    for folder in os.listdir(pn):\n",
    "        new_path = pn+folder\n",
    "        if os.path.isdir(new_path):\n",
    "            folder_size = sum(os.path.getsize(os.path.join(new_path, file)) for file in os.listdir(new_path))\n",
    "            folder_size_kb = round(folder_size / 1024, 2)      \n",
    "            num_files = sum(1 for f in os.listdir(\"./\"+new_path))\n",
    "\n",
    "        \n",
    "        print(f\"{folder} size: {folder_size_kb} kB, {num_files} files\")\n",
    "    print(\"\\n\")\n",
    "    #print(f\"{folder}_size: {os.path.getsize()}\")\n"
   ]
  },
  {
   "cell_type": "code",
   "execution_count": 3,
   "metadata": {},
   "outputs": [
    {
     "name": "stdout",
     "output_type": "stream",
     "text": [
      "VG contains: \n",
      "2005 size: 50307.78 kB, 264 files\n",
      "2006 size: 74914.96 kB, 360 files\n",
      "2007 size: 67835.89 kB, 351 files\n",
      "2008 size: 50588.86 kB, 359 files\n",
      "2009 size: 148471.12 kB, 352 files\n",
      "2010 size: 129299.64 kB, 359 files\n",
      "2011 size: 103358.62 kB, 359 files\n",
      "\n",
      "\n",
      "Fedrelandsvennen contains : \n",
      "2005 size: 34287.34 kB, 260 files\n",
      "2006 size: 53280.71 kB, 359 files\n",
      "2007 size: 288423.57 kB, 351 files\n",
      "2008 size: 79907.46 kB, 343 files\n",
      "2009 size: 33930.09 kB, 166 files\n",
      "2010 size: 88293.11 kB, 361 files\n",
      "2011 size: 75608.53 kB, 359 files\n",
      "\n",
      "\n",
      "Nordlys contains: \n",
      "2005 size: 50307.78 kB, 264 files\n",
      "2006 size: 74914.96 kB, 360 files\n",
      "2007 size: 67835.89 kB, 351 files\n",
      "2008 size: 50588.86 kB, 359 files\n",
      "2009 size: 148471.12 kB, 352 files\n",
      "2010 size: 129299.64 kB, 359 files\n",
      "2011 size: 103358.62 kB, 359 files\n",
      "\n",
      "\n"
     ]
    }
   ],
   "source": [
    "print(\"VG contains: \")\n",
    "check_dir(\"./vg/\")\n",
    "\n",
    "print(\"Fedrelandsvennen contains : \")\n",
    "check_dir(\"./fv/\")\n",
    "\n",
    "print(\"Nordlys contains: \")\n",
    "check_dir(\"./vg/\")\n",
    "\n"
   ]
  },
  {
   "cell_type": "code",
   "execution_count": 4,
   "metadata": {},
   "outputs": [],
   "source": [
    "#print(os.listdir(\"./2005\"))\n",
    "search_words = [\"same \", \"samer\", \"samisk\", \"sametinget\", \"reinsdyr\", \"fosen\"]\n",
    "\n",
    "def create_dir(dir_path):\n",
    "    pattern = re.compile(r\">(.*?)##\", re.DOTALL)\n",
    "\n",
    "    for file_name in os.listdir(f\"{dir_path}\"):\n",
    "        file_path = os.path.join(dir_path, file_name)\n",
    "        with open(file_path, \"r\", encoding=\"latin-1\") as infile:\n",
    "            html_text = infile.read()\n",
    "            matches = pattern.findall(html_text)\n",
    "            \n",
    "            file_wo_format = file_name[:-6]\n",
    "            path_split = dir_path.split(\"/\")\n",
    "            new_dir_path = f\"./new_{path_split[-2]}\"\n",
    "            try:\n",
    "                with open(f\"{new_dir_path}/{file_wo_format}.txt\", \"w\") as outfile:\n",
    "                    for text in matches:\n",
    "                        outfile.write(text.strip()+\"\\n\")\n",
    "            except FileNotFoundError:\n",
    "                os.mkdir(new_dir_path)\n",
    "\n",
    "\n",
    "    \n",
    "    #if os.path.isdir(f\"./new_{dir_path}\"): print(\"Directory created: \", True)\n",
    "    #else: print(\"Directory created: \", False)\n",
    "        "
   ]
  },
  {
   "cell_type": "code",
   "execution_count": 5,
   "metadata": {},
   "outputs": [],
   "source": [
    "create_dir(\"./vg/2006\")\n"
   ]
  },
  {
   "cell_type": "markdown",
   "metadata": {},
   "source": []
  },
  {
   "cell_type": "markdown",
   "metadata": {},
   "source": []
  },
  {
   "cell_type": "markdown",
   "metadata": {},
   "source": []
  }
 ],
 "metadata": {
  "kernelspec": {
   "display_name": "base",
   "language": "python",
   "name": "python3"
  },
  "language_info": {
   "codemirror_mode": {
    "name": "ipython",
    "version": 3
   },
   "file_extension": ".py",
   "mimetype": "text/x-python",
   "name": "python",
   "nbconvert_exporter": "python",
   "pygments_lexer": "ipython3",
   "version": "3.10.9"
  }
 },
 "nbformat": 4,
 "nbformat_minor": 2
}
